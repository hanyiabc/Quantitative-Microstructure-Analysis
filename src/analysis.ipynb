{
 "cells": [
  {
   "cell_type": "markdown",
   "metadata": {},
   "source": [
    "Import modules"
   ]
  },
  {
   "cell_type": "code",
   "execution_count": 1,
   "metadata": {
    "tags": []
   },
   "outputs": [
    {
     "output_type": "execute_result",
     "data": {
      "text/plain": "'2.1.0'"
     },
     "metadata": {},
     "execution_count": 1
    }
   ],
   "source": [
    "import tensorflow as tf\n",
    "from helper import *\n",
    "\n",
    "%matplotlib inline\n",
    "%load_ext autoreload\n",
    "%autoreload 2\n",
    "matplotlib.rcParams.update(matplotlib.rcParamsDefault)\n",
    "tf.__version__\n",
    "# tf.compat.v1.disable_eager_execution()\n",
    "# matplotlib.rc('axes', labelsize=18) \n",
    "# matplotlib.rc('figure', titlesize=18) "
   ]
  },
  {
   "cell_type": "markdown",
   "metadata": {},
   "source": [
    "Create sliding window of the 4 original dataset"
   ]
  },
  {
   "cell_type": "markdown",
   "metadata": {},
   "source": [
    "start the sliding window generation process"
   ]
  },
  {
   "cell_type": "code",
   "execution_count": null,
   "metadata": {},
   "outputs": [],
   "source": [
    "images = load_images_from_folder(ORIGINAL)\n",
    "\n",
    "counter = 0\n",
    "for image in images:\n",
    "\tclassPath = os.path.join(TRAIN, classes[counter])\n",
    "\tif not os.path.exists(classPath):\n",
    "\t\tos.mkdir(classPath)\n",
    "\tsliding_window(image, 3, (448, 448), classPath)\n",
    "\tcounter+=1"
   ]
  },
  {
   "cell_type": "markdown",
   "metadata": {},
   "source": [
    "Apply sliding window on al"
   ]
  },
  {
   "cell_type": "code",
   "execution_count": null,
   "metadata": {},
   "outputs": [],
   "source": [
    "images = load_images_from_folder('orig_Al')\n",
    "classPath = os.path.join(TRAIN, 'al')\n",
    "if not os.path.exists(classPath):\n",
    "    os.mkdir(classPath)\n",
    "sliding_window(images[0], 3, IMAGE_SIZE, classPath)"
   ]
  },
  {
   "cell_type": "markdown",
   "metadata": {},
   "source": [
    "Read generated sliding window and do data augmentation \n",
    "by randomly seleft and random flips"
   ]
  },
  {
   "cell_type": "code",
   "execution_count": 3,
   "metadata": {
    "tags": []
   },
   "outputs": [
    {
     "output_type": "stream",
     "name": "stdout",
     "text": "Found 12030 images belonging to 3 classes.\n{'300.9': 0, '600.3': 1, '600.9': 2}\n"
    },
    {
     "output_type": "display_data",
     "data": {
      "text/plain": "<Figure size 640x480 with 1 Axes>",
      "image/svg+xml": "<?xml version=\"1.0\" encoding=\"utf-8\" standalone=\"no\"?>\r\n<!DOCTYPE svg PUBLIC \"-//W3C//DTD SVG 1.1//EN\"\r\n  \"http://www.w3.org/Graphics/SVG/1.1/DTD/svg11.dtd\">\r\n<!-- Created with matplotlib (https://matplotlib.org/) -->\r\n<svg height=\"297.190125pt\" version=\"1.1\" viewBox=\"0 0 397.6075 297.190125\" width=\"397.6075pt\" xmlns=\"http://www.w3.org/2000/svg\" xmlns:xlink=\"http://www.w3.org/1999/xlink\">\r\n <defs>\r\n  <style type=\"text/css\">\r\n*{stroke-linecap:butt;stroke-linejoin:round;}\r\n  </style>\r\n </defs>\r\n <g id=\"figure_1\">\r\n  <g id=\"patch_1\">\r\n   <path d=\"M 0 297.190125 \r\nL 397.6075 297.190125 \r\nL 397.6075 0 \r\nL 0 0 \r\nz\r\n\" style=\"fill:#ffffff;\"/>\r\n  </g>\r\n  <g id=\"axes_1\">\r\n   <g id=\"patch_2\">\r\n    <path d=\"M 33.2875 273.312 \r\nL 390.4075 273.312 \r\nL 390.4075 7.2 \r\nL 33.2875 7.2 \r\nz\r\n\" style=\"fill:#ffffff;\"/>\r\n   </g>\r\n   <g id=\"patch_3\">\r\n    <path clip-path=\"url(#p71c1e8327e)\" d=\"M 49.520227 273.312 \r\nL 157.738399 273.312 \r\nL 157.738399 19.872 \r\nL 49.520227 19.872 \r\nz\r\n\" style=\"fill:#1f77b4;\"/>\r\n   </g>\r\n   <g id=\"patch_4\">\r\n    <path clip-path=\"url(#p71c1e8327e)\" d=\"M 157.738409 273.312 \r\nL 265.956576 273.312 \r\nL 265.956576 129.003541 \r\nL 157.738409 129.003541 \r\nz\r\n\" style=\"fill:#1f77b4;\"/>\r\n   </g>\r\n   <g id=\"patch_5\">\r\n    <path clip-path=\"url(#p71c1e8327e)\" d=\"M 265.956615 273.312 \r\nL 374.174773 273.312 \r\nL 374.174773 172.489967 \r\nL 265.956615 172.489967 \r\nz\r\n\" style=\"fill:#1f77b4;\"/>\r\n   </g>\r\n   <g id=\"matplotlib.axis_1\">\r\n    <g id=\"xtick_1\">\r\n     <g id=\"line2d_1\">\r\n      <defs>\r\n       <path d=\"M 0 0 \r\nL 0 3.5 \r\n\" id=\"mb1f1961223\" style=\"stroke:#000000;stroke-width:0.8;\"/>\r\n      </defs>\r\n      <g>\r\n       <use style=\"stroke:#000000;stroke-width:0.8;\" x=\"49.520222\" xlink:href=\"#mb1f1961223\" y=\"273.312\"/>\r\n      </g>\r\n     </g>\r\n     <g id=\"text_1\">\r\n      <!-- 0 -->\r\n      <defs>\r\n       <path d=\"M 31.78125 66.40625 \r\nQ 24.171875 66.40625 20.328125 58.90625 \r\nQ 16.5 51.421875 16.5 36.375 \r\nQ 16.5 21.390625 20.328125 13.890625 \r\nQ 24.171875 6.390625 31.78125 6.390625 \r\nQ 39.453125 6.390625 43.28125 13.890625 \r\nQ 47.125 21.390625 47.125 36.375 \r\nQ 47.125 51.421875 43.28125 58.90625 \r\nQ 39.453125 66.40625 31.78125 66.40625 \r\nz\r\nM 31.78125 74.21875 \r\nQ 44.046875 74.21875 50.515625 64.515625 \r\nQ 56.984375 54.828125 56.984375 36.375 \r\nQ 56.984375 17.96875 50.515625 8.265625 \r\nQ 44.046875 -1.421875 31.78125 -1.421875 \r\nQ 19.53125 -1.421875 13.0625 8.265625 \r\nQ 6.59375 17.96875 6.59375 36.375 \r\nQ 6.59375 54.828125 13.0625 64.515625 \r\nQ 19.53125 74.21875 31.78125 74.21875 \r\nz\r\n\" id=\"DejaVuSans-48\"/>\r\n      </defs>\r\n      <g transform=\"translate(46.338972 287.910437)scale(0.1 -0.1)\">\r\n       <use xlink:href=\"#DejaVuSans-48\"/>\r\n      </g>\r\n     </g>\r\n    </g>\r\n    <g id=\"xtick_2\">\r\n     <g id=\"line2d_2\">\r\n      <g>\r\n       <use style=\"stroke:#000000;stroke-width:0.8;\" x=\"211.847498\" xlink:href=\"#mb1f1961223\" y=\"273.312\"/>\r\n      </g>\r\n     </g>\r\n     <g id=\"text_2\">\r\n      <!-- 1 -->\r\n      <defs>\r\n       <path d=\"M 12.40625 8.296875 \r\nL 28.515625 8.296875 \r\nL 28.515625 63.921875 \r\nL 10.984375 60.40625 \r\nL 10.984375 69.390625 \r\nL 28.421875 72.90625 \r\nL 38.28125 72.90625 \r\nL 38.28125 8.296875 \r\nL 54.390625 8.296875 \r\nL 54.390625 0 \r\nL 12.40625 0 \r\nz\r\n\" id=\"DejaVuSans-49\"/>\r\n      </defs>\r\n      <g transform=\"translate(208.666248 287.910437)scale(0.1 -0.1)\">\r\n       <use xlink:href=\"#DejaVuSans-49\"/>\r\n      </g>\r\n     </g>\r\n    </g>\r\n    <g id=\"xtick_3\">\r\n     <g id=\"line2d_3\">\r\n      <g>\r\n       <use style=\"stroke:#000000;stroke-width:0.8;\" x=\"374.174773\" xlink:href=\"#mb1f1961223\" y=\"273.312\"/>\r\n      </g>\r\n     </g>\r\n     <g id=\"text_3\">\r\n      <!-- 2 -->\r\n      <defs>\r\n       <path d=\"M 19.1875 8.296875 \r\nL 53.609375 8.296875 \r\nL 53.609375 0 \r\nL 7.328125 0 \r\nL 7.328125 8.296875 \r\nQ 12.9375 14.109375 22.625 23.890625 \r\nQ 32.328125 33.6875 34.8125 36.53125 \r\nQ 39.546875 41.84375 41.421875 45.53125 \r\nQ 43.3125 49.21875 43.3125 52.78125 \r\nQ 43.3125 58.59375 39.234375 62.25 \r\nQ 35.15625 65.921875 28.609375 65.921875 \r\nQ 23.96875 65.921875 18.8125 64.3125 \r\nQ 13.671875 62.703125 7.8125 59.421875 \r\nL 7.8125 69.390625 \r\nQ 13.765625 71.78125 18.9375 73 \r\nQ 24.125 74.21875 28.421875 74.21875 \r\nQ 39.75 74.21875 46.484375 68.546875 \r\nQ 53.21875 62.890625 53.21875 53.421875 \r\nQ 53.21875 48.921875 51.53125 44.890625 \r\nQ 49.859375 40.875 45.40625 35.40625 \r\nQ 44.1875 33.984375 37.640625 27.21875 \r\nQ 31.109375 20.453125 19.1875 8.296875 \r\nz\r\n\" id=\"DejaVuSans-50\"/>\r\n      </defs>\r\n      <g transform=\"translate(370.993523 287.910437)scale(0.1 -0.1)\">\r\n       <use xlink:href=\"#DejaVuSans-50\"/>\r\n      </g>\r\n     </g>\r\n    </g>\r\n   </g>\r\n   <g id=\"matplotlib.axis_2\">\r\n    <g id=\"ytick_1\">\r\n     <g id=\"line2d_4\">\r\n      <defs>\r\n       <path d=\"M 0 0 \r\nL -3.5 0 \r\n\" id=\"m5a9b47f909\" style=\"stroke:#000000;stroke-width:0.8;\"/>\r\n      </defs>\r\n      <g>\r\n       <use style=\"stroke:#000000;stroke-width:0.8;\" x=\"33.2875\" xlink:href=\"#m5a9b47f909\" y=\"273.312\"/>\r\n      </g>\r\n     </g>\r\n     <g id=\"text_4\">\r\n      <!-- 0 -->\r\n      <g transform=\"translate(19.925 277.111219)scale(0.1 -0.1)\">\r\n       <use xlink:href=\"#DejaVuSans-48\"/>\r\n      </g>\r\n     </g>\r\n    </g>\r\n    <g id=\"ytick_2\">\r\n     <g id=\"line2d_5\">\r\n      <g>\r\n       <use style=\"stroke:#000000;stroke-width:0.8;\" x=\"33.2875\" xlink:href=\"#m5a9b47f909\" y=\"217.915279\"/>\r\n      </g>\r\n     </g>\r\n     <g id=\"text_5\">\r\n      <!-- 200 -->\r\n      <g transform=\"translate(7.2 221.714497)scale(0.1 -0.1)\">\r\n       <use xlink:href=\"#DejaVuSans-50\"/>\r\n       <use x=\"63.623047\" xlink:href=\"#DejaVuSans-48\"/>\r\n       <use x=\"127.246094\" xlink:href=\"#DejaVuSans-48\"/>\r\n      </g>\r\n     </g>\r\n    </g>\r\n    <g id=\"ytick_3\">\r\n     <g id=\"line2d_6\">\r\n      <g>\r\n       <use style=\"stroke:#000000;stroke-width:0.8;\" x=\"33.2875\" xlink:href=\"#m5a9b47f909\" y=\"162.518557\"/>\r\n      </g>\r\n     </g>\r\n     <g id=\"text_6\">\r\n      <!-- 400 -->\r\n      <defs>\r\n       <path d=\"M 37.796875 64.3125 \r\nL 12.890625 25.390625 \r\nL 37.796875 25.390625 \r\nz\r\nM 35.203125 72.90625 \r\nL 47.609375 72.90625 \r\nL 47.609375 25.390625 \r\nL 58.015625 25.390625 \r\nL 58.015625 17.1875 \r\nL 47.609375 17.1875 \r\nL 47.609375 0 \r\nL 37.796875 0 \r\nL 37.796875 17.1875 \r\nL 4.890625 17.1875 \r\nL 4.890625 26.703125 \r\nz\r\n\" id=\"DejaVuSans-52\"/>\r\n      </defs>\r\n      <g transform=\"translate(7.2 166.317776)scale(0.1 -0.1)\">\r\n       <use xlink:href=\"#DejaVuSans-52\"/>\r\n       <use x=\"63.623047\" xlink:href=\"#DejaVuSans-48\"/>\r\n       <use x=\"127.246094\" xlink:href=\"#DejaVuSans-48\"/>\r\n      </g>\r\n     </g>\r\n    </g>\r\n    <g id=\"ytick_4\">\r\n     <g id=\"line2d_7\">\r\n      <g>\r\n       <use style=\"stroke:#000000;stroke-width:0.8;\" x=\"33.2875\" xlink:href=\"#m5a9b47f909\" y=\"107.121836\"/>\r\n      </g>\r\n     </g>\r\n     <g id=\"text_7\">\r\n      <!-- 600 -->\r\n      <defs>\r\n       <path d=\"M 33.015625 40.375 \r\nQ 26.375 40.375 22.484375 35.828125 \r\nQ 18.609375 31.296875 18.609375 23.390625 \r\nQ 18.609375 15.53125 22.484375 10.953125 \r\nQ 26.375 6.390625 33.015625 6.390625 \r\nQ 39.65625 6.390625 43.53125 10.953125 \r\nQ 47.40625 15.53125 47.40625 23.390625 \r\nQ 47.40625 31.296875 43.53125 35.828125 \r\nQ 39.65625 40.375 33.015625 40.375 \r\nz\r\nM 52.59375 71.296875 \r\nL 52.59375 62.3125 \r\nQ 48.875 64.0625 45.09375 64.984375 \r\nQ 41.3125 65.921875 37.59375 65.921875 \r\nQ 27.828125 65.921875 22.671875 59.328125 \r\nQ 17.53125 52.734375 16.796875 39.40625 \r\nQ 19.671875 43.65625 24.015625 45.921875 \r\nQ 28.375 48.1875 33.59375 48.1875 \r\nQ 44.578125 48.1875 50.953125 41.515625 \r\nQ 57.328125 34.859375 57.328125 23.390625 \r\nQ 57.328125 12.15625 50.6875 5.359375 \r\nQ 44.046875 -1.421875 33.015625 -1.421875 \r\nQ 20.359375 -1.421875 13.671875 8.265625 \r\nQ 6.984375 17.96875 6.984375 36.375 \r\nQ 6.984375 53.65625 15.1875 63.9375 \r\nQ 23.390625 74.21875 37.203125 74.21875 \r\nQ 40.921875 74.21875 44.703125 73.484375 \r\nQ 48.484375 72.75 52.59375 71.296875 \r\nz\r\n\" id=\"DejaVuSans-54\"/>\r\n      </defs>\r\n      <g transform=\"translate(7.2 110.921055)scale(0.1 -0.1)\">\r\n       <use xlink:href=\"#DejaVuSans-54\"/>\r\n       <use x=\"63.623047\" xlink:href=\"#DejaVuSans-48\"/>\r\n       <use x=\"127.246094\" xlink:href=\"#DejaVuSans-48\"/>\r\n      </g>\r\n     </g>\r\n    </g>\r\n    <g id=\"ytick_5\">\r\n     <g id=\"line2d_8\">\r\n      <g>\r\n       <use style=\"stroke:#000000;stroke-width:0.8;\" x=\"33.2875\" xlink:href=\"#m5a9b47f909\" y=\"51.725115\"/>\r\n      </g>\r\n     </g>\r\n     <g id=\"text_8\">\r\n      <!-- 800 -->\r\n      <defs>\r\n       <path d=\"M 31.78125 34.625 \r\nQ 24.75 34.625 20.71875 30.859375 \r\nQ 16.703125 27.09375 16.703125 20.515625 \r\nQ 16.703125 13.921875 20.71875 10.15625 \r\nQ 24.75 6.390625 31.78125 6.390625 \r\nQ 38.8125 6.390625 42.859375 10.171875 \r\nQ 46.921875 13.96875 46.921875 20.515625 \r\nQ 46.921875 27.09375 42.890625 30.859375 \r\nQ 38.875 34.625 31.78125 34.625 \r\nz\r\nM 21.921875 38.8125 \r\nQ 15.578125 40.375 12.03125 44.71875 \r\nQ 8.5 49.078125 8.5 55.328125 \r\nQ 8.5 64.0625 14.71875 69.140625 \r\nQ 20.953125 74.21875 31.78125 74.21875 \r\nQ 42.671875 74.21875 48.875 69.140625 \r\nQ 55.078125 64.0625 55.078125 55.328125 \r\nQ 55.078125 49.078125 51.53125 44.71875 \r\nQ 48 40.375 41.703125 38.8125 \r\nQ 48.828125 37.15625 52.796875 32.3125 \r\nQ 56.78125 27.484375 56.78125 20.515625 \r\nQ 56.78125 9.90625 50.3125 4.234375 \r\nQ 43.84375 -1.421875 31.78125 -1.421875 \r\nQ 19.734375 -1.421875 13.25 4.234375 \r\nQ 6.78125 9.90625 6.78125 20.515625 \r\nQ 6.78125 27.484375 10.78125 32.3125 \r\nQ 14.796875 37.15625 21.921875 38.8125 \r\nz\r\nM 18.3125 54.390625 \r\nQ 18.3125 48.734375 21.84375 45.5625 \r\nQ 25.390625 42.390625 31.78125 42.390625 \r\nQ 38.140625 42.390625 41.71875 45.5625 \r\nQ 45.3125 48.734375 45.3125 54.390625 \r\nQ 45.3125 60.0625 41.71875 63.234375 \r\nQ 38.140625 66.40625 31.78125 66.40625 \r\nQ 25.390625 66.40625 21.84375 63.234375 \r\nQ 18.3125 60.0625 18.3125 54.390625 \r\nz\r\n\" id=\"DejaVuSans-56\"/>\r\n      </defs>\r\n      <g transform=\"translate(7.2 55.524334)scale(0.1 -0.1)\">\r\n       <use xlink:href=\"#DejaVuSans-56\"/>\r\n       <use x=\"63.623047\" xlink:href=\"#DejaVuSans-48\"/>\r\n       <use x=\"127.246094\" xlink:href=\"#DejaVuSans-48\"/>\r\n      </g>\r\n     </g>\r\n    </g>\r\n   </g>\r\n   <g id=\"patch_6\">\r\n    <path d=\"M 33.2875 273.312 \r\nL 33.2875 7.2 \r\n\" style=\"fill:none;stroke:#000000;stroke-linecap:square;stroke-linejoin:miter;stroke-width:0.8;\"/>\r\n   </g>\r\n   <g id=\"patch_7\">\r\n    <path d=\"M 390.4075 273.312 \r\nL 390.4075 7.2 \r\n\" style=\"fill:none;stroke:#000000;stroke-linecap:square;stroke-linejoin:miter;stroke-width:0.8;\"/>\r\n   </g>\r\n   <g id=\"patch_8\">\r\n    <path d=\"M 33.2875 273.312 \r\nL 390.4075 273.312 \r\n\" style=\"fill:none;stroke:#000000;stroke-linecap:square;stroke-linejoin:miter;stroke-width:0.8;\"/>\r\n   </g>\r\n   <g id=\"patch_9\">\r\n    <path d=\"M 33.2875 7.2 \r\nL 390.4075 7.2 \r\n\" style=\"fill:none;stroke:#000000;stroke-linecap:square;stroke-linejoin:miter;stroke-width:0.8;\"/>\r\n   </g>\r\n  </g>\r\n </g>\r\n <defs>\r\n  <clipPath id=\"p71c1e8327e\">\r\n   <rect height=\"266.112\" width=\"357.12\" x=\"33.2875\" y=\"7.2\"/>\r\n  </clipPath>\r\n </defs>\r\n</svg>\r\n",
      "image/png": "[encoded data removed]"
     },
     "metadata": {}
    },
    {
     "output_type": "execute_result",
     "data": {
      "text/plain": "(array([915, 521, 364], dtype=int64),\n array([0.       , 0.6666667, 1.3333334, 2.       ], dtype=float32))"
     },
     "metadata": {},
     "execution_count": 3
    }
   ],
   "source": [
    "aug = ImageDataGenerator(\n",
    "\t\t# horizontal_flip=True,\n",
    "\t\t# vertical_flip=True,\n",
    "\t\tfill_mode=\"nearest\")\n",
    "\n",
    "\n",
    "augmentation = aug.flow_from_directory(imgDir, classes=classes, batch_size = TRAINING_SIZE, target_size=IMAGE_SIZE, shuffle=True, seed=20, class_mode=\"sparse\")\n",
    "print(augmentation.class_indices)\n",
    "for x, y in augmentation:\n",
    "\tdata = x\n",
    "\tlabels = y\n",
    "\tbreak\n",
    "data = preprocess_input(data)\n",
    "fig = plt.figure()\n",
    "fig.gca().xaxis.set_major_locator(MaxNLocator(integer=True))\n",
    "plt.hist(labels, len(classes))\n",
    "plt.show()\n",
    "np.histogram(labels, bins=3)\n",
    ""
   ]
  },
  {
   "cell_type": "markdown",
   "metadata": {},
   "source": [
    "Draw figure of original pics"
   ]
  },
  {
   "cell_type": "code",
   "execution_count": null,
   "metadata": {},
   "outputs": [],
   "source": [
    "fig = plt.figure(figsize=(32, 16))\n",
    "counter = 1\n",
    "for subdir, dirs, files in os.walk('orig'):\n",
    "\tfor file in files:\n",
    "\t\torigImg = cv2.imread(os.path.join(subdir, file))\n",
    "\t\tfig.add_subplot(1, 4, counter)\n",
    "\t\tplt.axis('off')\n",
    "\t\tplt.imshow(origImg)\n",
    "\t\tcounter += 1\n",
    "plt.savefig('original.png', transparent=True, dpi=300)\n",
    "plt.show()\n"
   ]
  },
  {
   "cell_type": "markdown",
   "metadata": {},
   "source": [
    "Figure X: The four original dataset. "
   ]
  },
  {
   "cell_type": "markdown",
   "metadata": {},
   "source": [
    "Draw figure for augmented pics"
   ]
  },
  {
   "cell_type": "code",
   "execution_count": null,
   "metadata": {},
   "outputs": [],
   "source": [
    "drawing = data.astype(np.uint8)\n",
    "fig = plt.figure(figsize=(16, 16))\n",
    "counter = 1\n",
    "idx = np.random.choice(np.where(labels == 0)[0], 4)\n",
    "for j in idx:\n",
    "\tfig.add_subplot(2, 2, counter)\n",
    "\tplt.axis('off')\n",
    "\tplt.imshow(drawing[j])\n",
    "\tcounter += 1\n",
    "\n",
    "\n",
    "plt.savefig('sample_300.9.png', transparent=True, dpi=300)\n",
    "plt.show()\n",
    "\n",
    "\n",
    "fig = plt.figure(figsize=(16, 16))\n",
    "counter = 1\n",
    "idx = np.random.choice(np.where(labels == 1)[0], 4)\n",
    "for j in idx:\n",
    "\tfig.add_subplot(2, 2, counter)\n",
    "\tplt.axis('off')\n",
    "\tplt.imshow(drawing[j])\n",
    "\tcounter += 1\n",
    "plt.savefig('sample_600.3.png', transparent=True, dpi=300)\n",
    "plt.show()\n",
    "\n",
    "fig = plt.figure(figsize=(16, 16))\n",
    "counter = 1\n",
    "idx = np.random.choice(np.where(labels == 2)[0], 4)\n",
    "for j in idx:\n",
    "\tfig.add_subplot(2, 2, counter)\n",
    "\tplt.axis('off')\n",
    "\tplt.imshow(drawing[j])\n",
    "\tcounter += 1\n",
    "plt.savefig('sample_600.9.png', transparent=True, dpi=300)\n",
    "plt.show()\n",
    ""
   ]
  },
  {
   "cell_type": "markdown",
   "metadata": {},
   "source": [
    "Figure X: Some sample of augmented dataset"
   ]
  },
  {
   "cell_type": "markdown",
   "metadata": {},
   "source": [
    "extract features"
   ]
  },
  {
   "cell_type": "markdown",
   "metadata": {},
   "source": [
    "Construct the VGG 16 network"
   ]
  },
  {
   "cell_type": "code",
   "execution_count": 4,
   "metadata": {
    "tags": []
   },
   "outputs": [
    {
     "output_type": "stream",
     "name": "stdout",
     "text": "WARNING:tensorflow:From C:\\Users\\AngelofDeath\\.conda\\envs\\thesis\\lib\\site-packages\\tensorflow_core\\python\\ops\\resource_variable_ops.py:1635: calling BaseResourceVariable.__init__ (from tensorflow.python.ops.resource_variable_ops) with constraint is deprecated and will be removed in a future version.\nInstructions for updating:\nIf using Keras pass *_constraint arguments to layers.\nModel: \"vgg19\"\n_________________________________________________________________\nLayer (type)                 Output Shape              Param #   \n=================================================================\ninput_1 (InputLayer)         [(None, 448, 448, 3)]     0         \n_________________________________________________________________\nblock1_conv1 (Conv2D)        (None, 448, 448, 64)      1792      \n_________________________________________________________________\nblock1_conv2 (Conv2D)        (None, 448, 448, 64)      36928     \n_________________________________________________________________\nblock1_pool (MaxPooling2D)   (None, 224, 224, 64)      0         \n_________________________________________________________________\nblock2_conv1 (Conv2D)        (None, 224, 224, 128)     73856     \n_________________________________________________________________\nblock2_conv2 (Conv2D)        (None, 224, 224, 128)     147584    \n_________________________________________________________________\nblock2_pool (MaxPooling2D)   (None, 112, 112, 128)     0         \n_________________________________________________________________\nblock3_conv1 (Conv2D)        (None, 112, 112, 256)     295168    \n_________________________________________________________________\nblock3_conv2 (Conv2D)        (None, 112, 112, 256)     590080    \n_________________________________________________________________\nblock3_conv3 (Conv2D)        (None, 112, 112, 256)     590080    \n_________________________________________________________________\nblock3_conv4 (Conv2D)        (None, 112, 112, 256)     590080    \n_________________________________________________________________\nblock3_pool (MaxPooling2D)   (None, 56, 56, 256)       0         \n_________________________________________________________________\nblock4_conv1 (Conv2D)        (None, 56, 56, 512)       1180160   \n_________________________________________________________________\nblock4_conv2 (Conv2D)        (None, 56, 56, 512)       2359808   \n_________________________________________________________________\nblock4_conv3 (Conv2D)        (None, 56, 56, 512)       2359808   \n_________________________________________________________________\nblock4_conv4 (Conv2D)        (None, 56, 56, 512)       2359808   \n_________________________________________________________________\nblock4_pool (MaxPooling2D)   (None, 28, 28, 512)       0         \n_________________________________________________________________\nblock5_conv1 (Conv2D)        (None, 28, 28, 512)       2359808   \n_________________________________________________________________\nblock5_conv2 (Conv2D)        (None, 28, 28, 512)       2359808   \n_________________________________________________________________\nblock5_conv3 (Conv2D)        (None, 28, 28, 512)       2359808   \n_________________________________________________________________\nblock5_conv4 (Conv2D)        (None, 28, 28, 512)       2359808   \n_________________________________________________________________\nblock5_pool (MaxPooling2D)   (None, 14, 14, 512)       0         \n=================================================================\nTotal params: 20,024,384\nTrainable params: 20,024,384\nNon-trainable params: 0\n_________________________________________________________________\n"
    }
   ],
   "source": [
    "input_tensor = ks.Input(data.shape[1:])\n",
    "\n",
    "network = VGG19(weights=None, include_top=False, input_tensor=input_tensor, pooling=None)\n",
    "network.load_weights(VGG_19_WEIGHTS_PATH)\n",
    "#network = ks.Model(input_tensor, vgg16(input_tensor))\n",
    "network.summary()\n",
    "#features = network.predict(data)"
   ]
  },
  {
   "cell_type": "markdown",
   "metadata": {},
   "source": [
    "Get functors for the gram matrix for each layers for a whole batch"
   ]
  },
  {
   "cell_type": "code",
   "execution_count": 4,
   "metadata": {},
   "outputs": [],
   "source": [
    "feature_layers = ['block1_pool', 'block2_pool',\n",
    "                  'block3_pool', 'block4_pool',\n",
    "                  'block1_conv1']\n",
    "layers = dict([(layer.name, layer.output) for layer in network.layers])\n",
    "all_grams = []\n",
    "for layer_name in feature_layers:\n",
    "    style_features = layers[layer_name]\n",
    "    gram = gram_matrix_batch(style_features)\n",
    "    all_grams.append(gram)\n",
    "\n",
    "functor = K.function(input_tensor, all_grams)\n"
   ]
  },
  {
   "cell_type": "markdown",
   "metadata": {},
   "source": [
    "Generate Image from a single Image. "
   ]
  },
  {
   "cell_type": "code",
   "execution_count": 5,
   "metadata": {
    "tags": []
   },
   "outputs": [
    {
     "output_type": "stream",
     "name": "stdout",
     "text": "Start of iteration 0\nCurrent loss value: 323048500000.0\nIteration 0 completed in 15s\nStart of iteration 1\nCurrent loss value: 91972090000.0\nIteration 1 completed in 10s\nStart of iteration 2\nCurrent loss value: 57462723000.0\nIteration 2 completed in 10s\nStart of iteration 3\nCurrent loss value: 44565414000.0\nIteration 3 completed in 10s\nStart of iteration 4\nCurrent loss value: 38092124000.0\nIteration 4 completed in 10s\nStart of iteration 5\nCurrent loss value: 34012905000.0\nIteration 5 completed in 12s\nStart of iteration 6\nCurrent loss value: 31262503000.0\nIteration 6 completed in 10s\nStart of iteration 7\nCurrent loss value: 29090351000.0\nIteration 7 completed in 10s\nStart of iteration 8\nCurrent loss value: 27335127000.0\nIteration 8 completed in 10s\nStart of iteration 9\nCurrent loss value: 25580872000.0\nIteration 9 completed in 10s\nStart of iteration 10\nCurrent loss value: 24102880000.0\nIteration 10 completed in 11s\nStart of iteration 11\nCurrent loss value: 22659557000.0\nIteration 11 completed in 10s\nStart of iteration 12\nCurrent loss value: 21355070000.0\nIteration 12 completed in 10s\nStart of iteration 13\nCurrent loss value: 20134177000.0\nIteration 13 completed in 10s\nStart of iteration 14\nCurrent loss value: 18935505000.0\nIteration 14 completed in 10s\nStart of iteration 15\nCurrent loss value: 17803465000.0\nIteration 15 completed in 10s\nStart of iteration 16\nCurrent loss value: 16590967000.0\nIteration 16 completed in 10s\nStart of iteration 17\nCurrent loss value: 15577486000.0\nIteration 17 completed in 10s\nStart of iteration 18\nCurrent loss value: 14674301000.0\nIteration 18 completed in 10s\nStart of iteration 19\nCurrent loss value: 13857225000.0\nIteration 19 completed in 11s\n"
    }
   ],
   "source": [
    "IMAGE_PATH = \"sim1.png\"\n",
    "\n",
    "orig = imread(IMAGE_PATH)[np.newaxis, :, :, :]\n",
    "preprocess_input(orig)\n",
    "\n",
    "generated = generateImageFromStyle(H=IMAGE_SIZE[0], W=IMAGE_SIZE[1], C=3, S_weight=1.0, V_weight=0, style_image=orig, iters=20)\n",
    "generated = deprocess_image(generated)"
   ]
  },
  {
   "cell_type": "markdown",
   "metadata": {},
   "source": [
    "Get the gram matrix value, this function split the entire input into small batches to avoid OOM"
   ]
  },
  {
   "cell_type": "code",
   "execution_count": null,
   "metadata": {
    "tags": []
   },
   "outputs": [],
   "source": [
    "imsave('simg_enerated.png', generated)\n",
    "\n",
    "plt.figure()\n",
    "plt.axis('off')\n",
    "plt.imshow(generated)\n",
    "plt.show()"
   ]
  },
  {
   "cell_type": "code",
   "execution_count": 10,
   "metadata": {},
   "outputs": [
    {
     "output_type": "error",
     "ename": "UnknownError",
     "evalue": "2 root error(s) found.\n  (0) Unknown: Failed to get convolution algorithm. This is probably because cuDNN failed to initialize, so try looking to see if a warning log message was printed above.\n\t [[{{node block1_conv1/Conv2D}}]]\n\t [[Reshape_39/_423]]\n  (1) Unknown: Failed to get convolution algorithm. This is probably because cuDNN failed to initialize, so try looking to see if a warning log message was printed above.\n\t [[{{node block1_conv1/Conv2D}}]]\n0 successful operations.\n0 derived errors ignored.",
     "traceback": [
      "\u001b[1;31m---------------------------------------------------------------------------\u001b[0m",
      "\u001b[1;31mUnknownError\u001b[0m                              Traceback (most recent call last)",
      "\u001b[1;32m<ipython-input-10-6517d6122a21>\u001b[0m in \u001b[0;36m<module>\u001b[1;34m\u001b[0m\n\u001b[1;32m----> 1\u001b[1;33m \u001b[0mfeatures\u001b[0m \u001b[1;33m=\u001b[0m \u001b[0mget_gram_batch\u001b[0m\u001b[1;33m(\u001b[0m\u001b[0mdata\u001b[0m\u001b[1;33m,\u001b[0m \u001b[0mfunctor\u001b[0m\u001b[1;33m)\u001b[0m\u001b[1;33m\u001b[0m\u001b[1;33m\u001b[0m\u001b[0m\n\u001b[0m\u001b[0;32m      2\u001b[0m \u001b[0mfeatures\u001b[0m\u001b[1;33m.\u001b[0m\u001b[0mshape\u001b[0m\u001b[1;33m\u001b[0m\u001b[1;33m\u001b[0m\u001b[0m\n",
      "\u001b[1;32my:\\Thesis\\analysis\\helper.py\u001b[0m in \u001b[0;36mget_gram_batch\u001b[1;34m(data, functor)\u001b[0m\n\u001b[0;32m    101\u001b[0m     \u001b[0mresults\u001b[0m \u001b[1;33m=\u001b[0m \u001b[1;33m[\u001b[0m\u001b[1;33m]\u001b[0m\u001b[1;33m\u001b[0m\u001b[1;33m\u001b[0m\u001b[0m\n\u001b[0;32m    102\u001b[0m     \u001b[1;32mfor\u001b[0m \u001b[0mbatch\u001b[0m \u001b[1;32min\u001b[0m \u001b[0mspliltted\u001b[0m\u001b[1;33m:\u001b[0m\u001b[1;33m\u001b[0m\u001b[1;33m\u001b[0m\u001b[0m\n\u001b[1;32m--> 103\u001b[1;33m         \u001b[0mbatch_result\u001b[0m \u001b[1;33m=\u001b[0m \u001b[0mfunctor\u001b[0m\u001b[1;33m(\u001b[0m\u001b[0mbatch\u001b[0m\u001b[1;33m)\u001b[0m\u001b[1;33m\u001b[0m\u001b[1;33m\u001b[0m\u001b[0m\n\u001b[0m\u001b[0;32m    104\u001b[0m         \u001b[0mresults\u001b[0m\u001b[1;33m.\u001b[0m\u001b[0mappend\u001b[0m\u001b[1;33m(\u001b[0m\u001b[0mnp\u001b[0m\u001b[1;33m.\u001b[0m\u001b[0mconcatenate\u001b[0m\u001b[1;33m(\u001b[0m\u001b[0mbatch_result\u001b[0m\u001b[1;33m,\u001b[0m \u001b[0maxis\u001b[0m\u001b[1;33m=\u001b[0m\u001b[1;36m1\u001b[0m\u001b[1;33m)\u001b[0m\u001b[1;33m)\u001b[0m\u001b[1;33m\u001b[0m\u001b[1;33m\u001b[0m\u001b[0m\n\u001b[0;32m    105\u001b[0m     \u001b[0mfeatures\u001b[0m \u001b[1;33m=\u001b[0m \u001b[0mnp\u001b[0m\u001b[1;33m.\u001b[0m\u001b[0mconcatenate\u001b[0m\u001b[1;33m(\u001b[0m\u001b[0mresults\u001b[0m\u001b[1;33m,\u001b[0m \u001b[0maxis\u001b[0m\u001b[1;33m=\u001b[0m\u001b[1;36m0\u001b[0m\u001b[1;33m)\u001b[0m\u001b[1;33m\u001b[0m\u001b[1;33m\u001b[0m\u001b[0m\n",
      "\u001b[1;32m~\\.conda\\envs\\thesis\\lib\\site-packages\\tensorflow_core\\python\\keras\\backend.py\u001b[0m in \u001b[0;36m__call__\u001b[1;34m(self, inputs)\u001b[0m\n\u001b[0;32m   3565\u001b[0m \u001b[1;33m\u001b[0m\u001b[0m\n\u001b[0;32m   3566\u001b[0m     fetched = self._callable_fn(*array_vals,\n\u001b[1;32m-> 3567\u001b[1;33m                                 run_metadata=self.run_metadata)\n\u001b[0m\u001b[0;32m   3568\u001b[0m     \u001b[0mself\u001b[0m\u001b[1;33m.\u001b[0m\u001b[0m_call_fetch_callbacks\u001b[0m\u001b[1;33m(\u001b[0m\u001b[0mfetched\u001b[0m\u001b[1;33m[\u001b[0m\u001b[1;33m-\u001b[0m\u001b[0mlen\u001b[0m\u001b[1;33m(\u001b[0m\u001b[0mself\u001b[0m\u001b[1;33m.\u001b[0m\u001b[0m_fetches\u001b[0m\u001b[1;33m)\u001b[0m\u001b[1;33m:\u001b[0m\u001b[1;33m]\u001b[0m\u001b[1;33m)\u001b[0m\u001b[1;33m\u001b[0m\u001b[1;33m\u001b[0m\u001b[0m\n\u001b[0;32m   3569\u001b[0m     output_structure = nest.pack_sequence_as(\n",
      "\u001b[1;32m~\\.conda\\envs\\thesis\\lib\\site-packages\\tensorflow_core\\python\\client\\session.py\u001b[0m in \u001b[0;36m__call__\u001b[1;34m(self, *args, **kwargs)\u001b[0m\n\u001b[0;32m   1472\u001b[0m         ret = tf_session.TF_SessionRunCallable(self._session._session,\n\u001b[0;32m   1473\u001b[0m                                                \u001b[0mself\u001b[0m\u001b[1;33m.\u001b[0m\u001b[0m_handle\u001b[0m\u001b[1;33m,\u001b[0m \u001b[0margs\u001b[0m\u001b[1;33m,\u001b[0m\u001b[1;33m\u001b[0m\u001b[1;33m\u001b[0m\u001b[0m\n\u001b[1;32m-> 1474\u001b[1;33m                                                run_metadata_ptr)\n\u001b[0m\u001b[0;32m   1475\u001b[0m         \u001b[1;32mif\u001b[0m \u001b[0mrun_metadata\u001b[0m\u001b[1;33m:\u001b[0m\u001b[1;33m\u001b[0m\u001b[1;33m\u001b[0m\u001b[0m\n\u001b[0;32m   1476\u001b[0m           \u001b[0mproto_data\u001b[0m \u001b[1;33m=\u001b[0m \u001b[0mtf_session\u001b[0m\u001b[1;33m.\u001b[0m\u001b[0mTF_GetBuffer\u001b[0m\u001b[1;33m(\u001b[0m\u001b[0mrun_metadata_ptr\u001b[0m\u001b[1;33m)\u001b[0m\u001b[1;33m\u001b[0m\u001b[1;33m\u001b[0m\u001b[0m\n",
      "\u001b[1;31mUnknownError\u001b[0m: 2 root error(s) found.\n  (0) Unknown: Failed to get convolution algorithm. This is probably because cuDNN failed to initialize, so try looking to see if a warning log message was printed above.\n\t [[{{node block1_conv1/Conv2D}}]]\n\t [[Reshape_39/_423]]\n  (1) Unknown: Failed to get convolution algorithm. This is probably because cuDNN failed to initialize, so try looking to see if a warning log message was printed above.\n\t [[{{node block1_conv1/Conv2D}}]]\n0 successful operations.\n0 derived errors ignored."
     ]
    }
   ],
   "source": [
    "features = get_gram_batch(data, functor)\n",
    "features.shape"
   ]
  },
  {
   "cell_type": "markdown",
   "metadata": {},
   "source": [
    "Feature extraction method"
   ]
  },
  {
   "cell_type": "code",
   "execution_count": null,
   "metadata": {},
   "outputs": [],
   "source": [
    "features_old = network.predict(data)\n",
    "features_old = features_old.reshape((features_old.shape[0],-1))"
   ]
  },
  {
   "cell_type": "markdown",
   "metadata": {},
   "source": [
    "Evaluate and plot accuracies of different models"
   ]
  },
  {
   "cell_type": "code",
   "execution_count": null,
   "metadata": {},
   "outputs": [],
   "source": [
    "\"\"\"\n",
    "New Method: Gram matrix\n",
    "\"\"\"\n",
    "\n",
    "explainations = []\n",
    "\n",
    "for i in range(2, 11):\n",
    "    pca = PCA(n_components=i)\n",
    "    pca.fit(features)\n",
    "    explainations.append(np.sum(pca.explained_variance_ratio_))\n",
    "\n",
    "accuracies = dict()\n",
    "accuracies_old = dict()\n",
    "accuracies['LinearSVM'] = await asyncio.gather(*[evaluateSVM_PCA(i, features, labels, 'linear') for i in range(2, 11)])\n",
    "\n",
    "# \"\"\"\n",
    "# Old method: Feature Extraction\n",
    "# \"\"\"\n",
    "\n",
    "accuracies_old['LinearSVM'] = await asyncio.gather(*[evaluateSVM_PCA(i, features_old, labels, 'linear') for i in range(2, 11)])\n",
    "accuracies_old['3Poly'] = await asyncio.gather(*[evaluateSVM_PCA(i, features_old, labels, 'poly') for i in range(2, 11)])\n",
    "accuracies_old['RBF'] = await asyncio.gather(*[evaluateSVM_PCA(i, features_old, labels, 'rbf') for i in range(2, 11)])"
   ]
  },
  {
   "cell_type": "markdown",
   "metadata": {},
   "source": [
    "plot accuracies with different SVM and PCA components"
   ]
  },
  {
   "cell_type": "code",
   "execution_count": null,
   "metadata": {},
   "outputs": [],
   "source": [
    "fig = plt.figure()\n",
    "fig.add_subplot()\n",
    "x = range(2,11)\n",
    "plt.plot(x, accuracies['LinearSVM'])\n",
    "plt.plot(x, accuracies_old['LinearSVM'])\n",
    "plt.plot(x, accuracies_old['3Poly'])\n",
    "plt.plot(x, accuracies_old['RBF'])\n",
    "\n",
    "fig.gca().xaxis.set_major_locator(MaxNLocator(integer=True))\n",
    "plt.legend(['LinearSVM (Gram Matrix)', 'LinearSVM (Feature Extraction)', '3Degree (Feature Extraction)', 'RBF (Feature Extraction)'])\n",
    "\n",
    "plt.xlabel('# of Principal Components')\n",
    "plt.ylabel('Accuracy')\n",
    "\n",
    "plt.savefig('acc_vs_npc.png', dpi=300)\n",
    "plt.show()"
   ]
  },
  {
   "cell_type": "code",
   "execution_count": null,
   "metadata": {},
   "outputs": [],
   "source": [
    "fig = plt.figure()\n",
    "fig.add_subplot()\n",
    "x = range(2,11)\n",
    "plt.bar(x, accuracies['LinearSVM'])\n",
    "plt.xticks(x)\n",
    "fig.gca().xaxis.set_major_locator(MaxNLocator(integer=True))\n",
    "#plt.legend(['LinearSVM'])\n",
    "\n",
    "# plt.xlabel('Number of Principal Components')\n",
    " \n",
    "# plt.ylabel('classification Accuracy')\n",
    "\n",
    "plt.savefig('acc_vs_npc.png', dpi=300)\n",
    "plt.show()\n",
    "\n",
    "\n",
    "fig = plt.figure()\n",
    "fig.add_subplot()\n",
    "x = range(2,11)\n",
    "plt.bar(x, explainations)\n",
    "plt.xticks(x)\n",
    "fig.gca().xaxis.set_major_locator(MaxNLocator(integer=True))\n",
    "#plt.legend(['LinearSVM'])\n",
    "\n",
    "# plt.xlabel('Number of Principal Components')\n",
    " \n",
    "# plt.ylabel('classification Accuracy')\n",
    "\n",
    "plt.savefig('exp_vs_npc.png', dpi=300)\n",
    "plt.show()"
   ]
  },
  {
   "cell_type": "markdown",
   "metadata": {},
   "source": [
    "Figure X: Accuracy vs number of principal comnponents. \n",
    "Tested on three SVM models. \n",
    "A normal SVM model\n",
    "with no kernel. A SVM model with 3 degree polynomial kernel \n",
    "and a SVM with radial basis kernel"
   ]
  },
  {
   "cell_type": "markdown",
   "metadata": {},
   "source": [
    "Train the classifer with dimension=8 and evaluate the result"
   ]
  },
  {
   "cell_type": "code",
   "execution_count": null,
   "metadata": {},
   "outputs": [],
   "source": [
    "pca = PCA(n_components=N_PC)\n",
    "X_train_, X_test_, y_train_, y_test_ = train_test_split(features, labels, shuffle=False, test_size=0.2)\n",
    "X_train = pca.fit_transform(X_train_)\n",
    "\n",
    "X_test = pca.transform(X_test_)\n",
    "pcaFeatures = pca.transform(features)\n",
    "X_train, X_test, y_train, y_test = train_test_split(pcaFeatures, labels, shuffle=False, test_size=0.2)\n",
    ""
   ]
  },
  {
   "cell_type": "markdown",
   "metadata": {},
   "source": [
    "draw the confusion matrix"
   ]
  },
  {
   "cell_type": "code",
   "execution_count": null,
   "metadata": {},
   "outputs": [],
   "source": [
    "model = svm.LinearSVC(max_iter=200000)\n",
    "model.fit(X_train, y_train)\n",
    "disp = plot_confusion_matrix(model, X_test, y_test, display_labels=CLASS_LABELS, normalize='true', cmap=plt.cm.Blues)\n",
    "#disp.ax_.set_title('Confusion Matrix', fontsize=18)\n",
    "plt.savefig('confmat.png', dpi=300)\n",
    "plt.show()"
   ]
  },
  {
   "cell_type": "markdown",
   "metadata": {},
   "source": [
    "Figure X: Confusion matrix of the optimal model. "
   ]
  },
  {
   "cell_type": "markdown",
   "metadata": {},
   "source": [
    "Draw the scatter plot (PCA reduced domain) visualize feature using first two components of PCA"
   ]
  },
  {
   "cell_type": "code",
   "execution_count": null,
   "metadata": {},
   "outputs": [],
   "source": [
    "fig = plt.figure()\n",
    "# fig.add_subplot()\n",
    "\n",
    "counter = 1\n",
    "for i in range(3):\n",
    "\t\tidx = np.where(labels == i)\n",
    "\t\tplt.scatter(pcaFeatures[idx[0], 0], pcaFeatures[idx[0], 1], s=4)\n",
    "\n",
    "plt.legend(CLASS_LABELS)\n",
    "# plt.xlabel('Principal Component 1')\n",
    "# plt.ylabel('Principal Component 2')\n",
    "\n",
    "plt.savefig('pca.png', dpi=300)\n",
    "plt.show()\n",
    ""
   ]
  },
  {
   "cell_type": "markdown",
   "metadata": {},
   "source": [
    "Figure X: Plot of first two princial components of the dataset "
   ]
  },
  {
   "cell_type": "markdown",
   "metadata": {},
   "source": [
    "Draw the first 2 PCs in the reduced domain. with the validation data darkened. "
   ]
  },
  {
   "cell_type": "code",
   "execution_count": null,
   "metadata": {},
   "outputs": [],
   "source": [
    "y_pred = model.predict(X_test)\n",
    "counter = 1\n",
    "fig, ax = plt.subplots()\n",
    "global COLORS\n",
    "COLORS = [(0.2, 0.2, 1), (0.2, 1, 0.2), (1, 0.2, 0.2), (0, 0, 0.5), (0, 0.5, 0), (0.5, 0, 0)]\n",
    "for i in range(3):\n",
    "\t\tidx = np.where(y_train == i)\n",
    "\t\tax.scatter(X_train[idx[0], 0], X_train[idx[0], 1], s=4, c=[COLORS[i]])\n",
    "\n",
    "for i in range(3):\n",
    "\t\tidx = np.where(y_pred == i)\n",
    "\t\tax.scatter(X_test[idx[0], 0], X_test[idx[0], 1], s=4, c=[COLORS[i+3]])\n",
    "legends = ['M1 Train', 'M2 Train', 'M3 Train', 'M1 Pred', 'M2 Pred', 'M3 Pred']\n",
    "lgd = ax.legend(legends, bbox_to_anchor=(1.21, 0.5), loc='center right', borderaxespad=0, frameon=False)\n",
    "# plt.xlabel('Principal Component 1')\n",
    "# plt.ylabel('Principal Component 2')\n",
    "\n",
    "plt.savefig('pca_validation_set.png', dpi=300, bbox_extra_artists=(lgd,), bbox_inches='tight')\n",
    "plt.show()\n",
    "plt.clf()"
   ]
  },
  {
   "cell_type": "markdown",
   "metadata": {},
   "source": [
    "Figure X: Plot of first two princial components of the dataset (validation dataset)"
   ]
  },
  {
   "cell_type": "code",
   "execution_count": null,
   "metadata": {},
   "outputs": [],
   "source": [
    "%matplotlib inline\n",
    "from mpl_toolkits.mplot3d import Axes3D\n",
    "\n",
    "fig = plt.figure()\n",
    "ax = fig.add_subplot(111, projection='3d')\n",
    "ax.view_init(azim=60)\n",
    "y_pred = model.predict(X_test)\n",
    "COLORS = [(0.2, 0.2, 1), (0.2, 0.8, 0.2), (1, 0.2, 0.2), (0, 0, 0.5), (0, 0.5, 0), (0.5, 0, 0)]\n",
    "\n",
    "counter = 1\n",
    "for i in range(3):\n",
    "\t\tidx = np.where(y_train == i)\n",
    "\t\tax.scatter(X_train[idx[0], 0], X_train[idx[0], 1], X_train[idx[0], 2], s=4, c=[COLORS[i]])\n",
    "\n",
    "for i in range(3):\n",
    "\t\tidx = np.where(y_test == i)\n",
    "\t\tax.scatter(X_test[idx[0], 0], X_test[idx[0], 1], X_test[idx[0], 2], s=4, c=[COLORS[i+3]])\n",
    "legends = ['M1 Train', 'M2 Train', 'M3 Train', 'M1 Test', 'M2 Test', 'M3 Test']\n",
    "lgd = ax.legend(legends, bbox_to_anchor=(1.20, 0.5), loc='center right', borderaxespad=0, frameon=False)\n",
    "# ax.set_xlabel('PC1')\n",
    "# ax.set_ylabel('PC2')\n",
    "# ax.set_zlabel('PC3')\n",
    "plt.savefig('pca_validation_set.png', dpi=300, bbox_extra_artists=(lgd,), bbox_inches='tight')\n",
    "plt.show()"
   ]
  },
  {
   "cell_type": "markdown",
   "metadata": {},
   "source": [
    "Put the entire 300.3 in the plot, also add the centroid"
   ]
  },
  {
   "cell_type": "code",
   "execution_count": null,
   "metadata": {},
   "outputs": [],
   "source": [
    "drawThingsOnReducedDomain3D(pcaFeatures, labels, [], [], 'pca_empty_transparent.3D.png', [], [], [], [])"
   ]
  },
  {
   "cell_type": "code",
   "execution_count": null,
   "metadata": {},
   "outputs": [],
   "source": [
    "aug = ImageDataGenerator(fill_mode=\"nearest\")\n",
    "\n",
    "augmentation = aug.flow_from_directory(imgDir,classes=[classes_all[0]], batch_size = TRAINING_SIZE_SMALL, target_size=IMAGE_SIZE,shuffle=True, seed=20, class_mode=\"sparse\")\n",
    "print(augmentation.class_indices)\n",
    "for x, y in augmentation:\n",
    "\tdata_300 = x\n",
    "\tlabels_300 = y\n",
    "\tbreak\n",
    "data_300 = preprocess_input(data_300)\n",
    "features_300 = get_gram_batch(data_300)\n",
    "pcaFeatures_300 = pca.transform(features_300)\n",
    "\n",
    "centroid = np.mean(pcaFeatures_300, axis=0)\n",
    ""
   ]
  },
  {
   "cell_type": "code",
   "execution_count": null,
   "metadata": {},
   "outputs": [],
   "source": [
    "drawThingsOnReducedDomain(pcaFeatures, labels, [pcaFeatures_300, centroid[np.newaxis, :]], ['M4', 'Centroid'], 'pca_with300.3.png', [None, None], [4, 400], [None, '*'], [None, None])\n",
    "drawThingsOnReducedDomain3D(pcaFeatures, labels, [pcaFeatures_300, centroid[np.newaxis, :]], ['M4', 'Centroid'], 'pca_with300.3D.png', [None, None], [4, 400], [None, '*'], [0.3, None])"
   ]
  },
  {
   "cell_type": "markdown",
   "metadata": {},
   "source": [
    "Read new Al dataset and project those onto the reduced domain"
   ]
  },
  {
   "cell_type": "markdown",
   "metadata": {},
   "source": [
    "Draw Al on Plot"
   ]
  },
  {
   "cell_type": "code",
   "execution_count": null,
   "metadata": {},
   "outputs": [],
   "source": [
    "generatedM7 = generateFromReducedDomain(centroid, pca)\n",
    "imsave('300.3_centroid_generated.png', generatedM7)\n",
    "\n",
    "plt.figure()\n",
    "plt.axis('off')\n",
    "plt.imshow(generatedM7)\n",
    "plt.show()"
   ]
  },
  {
   "cell_type": "code",
   "execution_count": null,
   "metadata": {},
   "outputs": [],
   "source": [
    "aug_Al = ImageDataGenerator(\n",
    "\t\tfill_mode=\"nearest\")\n",
    "\n",
    "augmentation_Al = aug_Al.flow_from_directory(TRAIN, classes=CLASSES_AL, batch_size = TRAINING_SIZE_SMALL, target_size=IMAGE_SIZE,shuffle=True, seed=20, class_mode=\"sparse\")\n",
    "print(augmentation_Al.class_indices)\n",
    "for x, y in augmentation_Al:\n",
    "\tdata_Al = x\n",
    "\tlabels_Al = y\n",
    "\tbreak\n",
    "\n",
    "features_Al = get_gram_batch(data_Al)\n",
    "features_Al.shape\n",
    "\n",
    "pcaFeatures_Al = pca.transform(features_Al)"
   ]
  },
  {
   "cell_type": "code",
   "execution_count": null,
   "metadata": {},
   "outputs": [],
   "source": [
    "drawThingsOnReducedDomain3D(pcaFeatures, labels, [pcaFeatures_Al], ['Al'], 'pca_with_Al.png', [None, None], [4], ['.'], [None])"
   ]
  },
  {
   "cell_type": "markdown",
   "metadata": {},
   "source": [
    "Put new image in the plot"
   ]
  },
  {
   "cell_type": "markdown",
   "metadata": {},
   "source": [
    "Calculate the variance and the restore error and the centroid"
   ]
  },
  {
   "cell_type": "code",
   "execution_count": null,
   "metadata": {},
   "outputs": [],
   "source": [
    "M4 = pcaFeatures_300\n",
    "restoredM4 = pca.inverse_transform(M4)\n",
    "M4_orig = features_300\n",
    "\n",
    "idx = np.where(labels == 0)\n",
    "M1 = pcaFeatures[idx]\n",
    "restoredM1 = pca.inverse_transform(M1)\n",
    "M1_orig = features[idx]\n",
    "\n",
    "restoredAl = pca.inverse_transform(pcaFeatures_Al)\n",
    "\n",
    "valRestored = pca.inverse_transform(X_test)\n",
    "valOrig = X_test_\n",
    "\n",
    "from sklearn.metrics import mean_squared_error\n",
    "\n",
    "zeros = np.zeros(M4_orig.shape)\n",
    "\n",
    "errM4 = mean_squared_error(M4_orig, restoredM4) / mean_squared_error(M4_orig, zeros)\n",
    "errAl = mean_squared_error(features_Al, restoredAl) / mean_squared_error(features_Al, zeros)\n",
    "\n",
    "\n",
    "print(errM4, errAl)\n",
    "print(1-errM4, 1-errAl)\n",
    "# from sklearn.metrics import explained_variance_score\n",
    "\n",
    "# expM1 = explained_variance_score(M1_orig, restoredM1)\n",
    "# expM4 = explained_variance_score(M4_orig, restoredM4)\n",
    "# expAl = explained_variance_score(features_Al, restoredAl)\n",
    "# expVal = explained_variance_score(valOrig, valRestored)\n",
    "# print(expM1, expM4, expAl, expVal)\n",
    "\n",
    "# print(mse)\n",
    "# print(mse / np.sum(M4_orig**2))\n",
    "\n",
    "# print(mseAl)\n",
    "# print(mseAl / np.sum(features_Al**2))\n",
    "# print(np.mean(pcaFeatures_Al, axis=0))\n"
   ]
  },
  {
   "cell_type": "code",
   "execution_count": null,
   "metadata": {},
   "outputs": [],
   "source": [
    "expVar = np.sum(pca.explained_variance_)\n",
    "origVar = np.sum(np.var(features_300, axis=0))\n",
    "print(expVar)\n",
    "origVar"
   ]
  },
  {
   "cell_type": "markdown",
   "metadata": {},
   "source": [
    "Generate new sample from image 600.3 (label=2)"
   ]
  },
  {
   "cell_type": "code",
   "execution_count": null,
   "metadata": {},
   "outputs": [],
   "source": [
    "idx = np.random.choice(np.where(labels == 1)[0], 1)\n",
    "styleImg = data[idx]\n",
    "\n",
    "generated = generateImageFromStyle(H=IMAGE_SIZE[0], W=IMAGE_SIZE[1], C=3, S_weight=STYLE_WEIGHT, V_weight=TOTAL_VARIATION_WEIGHT, style_image=styleImg, iters=20)"
   ]
  },
  {
   "cell_type": "markdown",
   "metadata": {},
   "source": [
    "Show the generated image and project it to the reduced domain"
   ]
  },
  {
   "cell_type": "code",
   "execution_count": null,
   "metadata": {},
   "outputs": [],
   "source": [
    "generated = deprocess_image(generated)\n",
    "fig = plt.figure()\n",
    "plt.axis('off')\n",
    "plt.imshow(generated)\n",
    "\n",
    "fig = plt.figure()\n",
    "plt.axis('off')\n",
    "plt.imshow(styleImg[0].astype(np.uint8))\n",
    "\n",
    "imsave('generated.png', generated)\n",
    "imsave('style.png', styleImg[0].astype(np.uint8))\n",
    "\n",
    "projectImage(generated, pca, pcaFeatures)\n",
    "projectImage(styleImg[0].astype(np.uint8), pca, pcaFeatures)"
   ]
  },
  {
   "cell_type": "markdown",
   "metadata": {},
   "source": [
    "Try to figure out the validity of the generated image. "
   ]
  },
  {
   "cell_type": "code",
   "execution_count": null,
   "metadata": {},
   "outputs": [],
   "source": [
    "correcoeHist(styleImg[0, :, :, :], generated.astype(np.float32))"
   ]
  },
  {
   "cell_type": "code",
   "execution_count": null,
   "metadata": {},
   "outputs": [],
   "source": [
    "GENERATED_IMG = 'generated300.3_0VAR.png'\n",
    "ORIGINAL_IMG = '600.3_.png'\n",
    "img = imread(GENERATED_IMG)\n",
    "img2 = imread(ORIGINAL_IMG)\n",
    "\n",
    "# plt.hist(img[:, :, 0].ravel(),256,[0,256])\n",
    "# plt.show()\n",
    "# plt.hist(img[:, :, 1].ravel(),256,[0,256])\n",
    "# plt.show()\n",
    "# plt.hist(img[:, :, 2].ravel(),256,[0,256])\n",
    "# plt.show()\n"
   ]
  },
  {
   "cell_type": "code",
   "execution_count": null,
   "metadata": {},
   "outputs": [],
   "source": [
    "# plt.hist(img2[:, :, 0].ravel(),256,[0,256])\n",
    "# plt.show()\n",
    "# plt.hist(img2[:, :, 1].ravel(),256,[0,256])\n",
    "# plt.show()\n",
    "# plt.hist(img2[:, :, 2].ravel(),256,[0,256])\n",
    "# plt.show()"
   ]
  },
  {
   "cell_type": "markdown",
   "metadata": {},
   "source": [
    "First figure: Projection of randomly generated image, 2nd figure: point image generated from"
   ]
  },
  {
   "cell_type": "markdown",
   "metadata": {},
   "source": [
    "Try to generate in-between data"
   ]
  },
  {
   "cell_type": "markdown",
   "metadata": {},
   "source": [
    "generate in-between sampels from 300.9, 600.9"
   ]
  },
  {
   "cell_type": "code",
   "execution_count": null,
   "metadata": {},
   "outputs": [],
   "source": [
    "M7Point = centroid\n",
    "\"\"\"\n",
    "M5 = M2 and M3 \n",
    "M6 = M1 and M3\n",
    "\"\"\"\n",
    "idxA = np.random.choice(np.where(labels == 1)[0], 1)\n",
    "idxB = np.random.choice(np.where(labels == 2)[0], 1)\n",
    "imgA = data[idxA]\n",
    "imgB = data[idxB]\n",
    "generatedM5, M5Point = generateInBetween(imgA[0, :, :, :], imgB[0, :, :, :], pca)\n",
    "\n",
    "idxA = np.random.choice(np.where(labels == 0)[0], 1)\n",
    "idxB = np.random.choice(np.where(labels == 2)[0], 1)\n",
    "imgA = data[idxA]\n",
    "imgB = data[idxB]\n",
    "generatedM6, M6Point = generateInBetween(imgA[0, :, :, :], imgB[0, :, :, :], pca)\n",
    "\n",
    "# for i in range(0, N_PC):\n",
    "#     M5Point[i] = np.random.uniform(np.min(pcaFeatures[:, i]), np.max(pcaFeatures[:, i]))\n",
    "# generatedM5 = generateFromReducedDomain(M5Point, pca)\n",
    "\n",
    "# for i in range(0, N_PC):\n",
    "#     M6Point[i] = np.random.uniform(np.min(pcaFeatures[:, i]), np.max(pcaFeatures[:, i]))\n",
    "# generatedM6 = generateFromReducedDomain(M6Point, pca)\n",
    "\n",
    "\n",
    "imsave('in-between_predictM5.png', generatedM5)\n",
    "imsave('in-between_predictM6.png', generatedM6)\n",
    "\n",
    "fig = plt.figure()\n",
    "plt.axis('off')\n",
    "plt.imshow(generatedM5)\n",
    "plt.show()\n",
    "\n",
    "fig = plt.figure()\n",
    "plt.axis('off')\n",
    "plt.imshow(generatedM6)\n",
    "plt.show()"
   ]
  },
  {
   "cell_type": "code",
   "execution_count": null,
   "metadata": {},
   "outputs": [],
   "source": [
    "\n",
    "M7Point = centroid\n",
    "locFile = open('locations.txt', 'w')\n",
    "locFile.write( \"300.3 Centroid: \\n\" + str(M7Point) + \"\\n\")\n",
    "locFile.write( \"M5 Pt: \\n\" + str(M5Point) + \"\\n\")\n",
    "locFile.write( \"M6 Pt: \\n\" + str(M6Point) + \"\\n\")\n",
    "\n",
    "centroids = []\n",
    "for i in range(3):\n",
    "    idx = np.where(labels == i)\n",
    "    centroids.append(np.mean(pcaFeatures[idx[0], :], axis=0))\n",
    "\n",
    "locFile.write( \"M1-M3 centroids: \\n\" + str(centroids) + \"\\n\")\n",
    "locFile.close()\n"
   ]
  },
  {
   "cell_type": "code",
   "execution_count": null,
   "metadata": {},
   "outputs": [],
   "source": [
    "\n",
    "# M5Point = projectImage(generatedM5.astype(np.float32), pca, pcaFeatures)\n",
    "# M6Point = projectImage(generatedM6.astype(np.float32), pca, pcaFeatures)\n",
    "# M7Point = projectImage(generatedM7.astype(np.float32), pca, pcaFeatures)\n",
    "\n",
    "drawThingsOnReducedDomain(pcaFeatures, labels, [M5Point[np.newaxis, :], M6Point[np.newaxis, :], M7Point[np.newaxis, :]], ['M5', 'M6', 'M7'], 'random_and_300.3_generation_projection.png', [None,  [(0.8, 0.8, 0.2)], None], [400, 400, 400], ['*', '*', '*'], [None, None, None, ])\n",
    "drawThingsOnReducedDomain3D(pcaFeatures, labels, [M5Point[np.newaxis, :], M6Point[np.newaxis, :], M7Point[np.newaxis, :]], ['M5', 'M6', 'M7'], 'random_and_300.3_generation_projection3D.png', [None, [(0.8, 0.8, 0.2)], None], [400, 400, 400], ['*', '*', '*'], [None, None, None, ])\n",
    "\n",
    "\n",
    "# plt.figure()\n",
    "# for i in range(3):\n",
    "#     idx = np.where(labels == i)\n",
    "#     plt.scatter(pcaFeatures[idx, 0], pcaFeatures[idx, 1], s=4)\n",
    "\n",
    "# plt.scatter(rand_point[0], rand_point[1], s=400, marker='x')"
   ]
  },
  {
   "cell_type": "code",
   "execution_count": null,
   "metadata": {},
   "outputs": [],
   "source": [
    "idxA = np.random.choice(np.where(labels == 0)[0], 1)\n",
    "idxB = np.random.choice(np.where(labels == 2)[0], 1)\n",
    "imgA = data[idxA]\n",
    "imgB = data[idxB]\n",
    "generated = generateInBetween(imgA[0, :, :, :], imgB[0, :, :, :], pca)\n"
   ]
  },
  {
   "cell_type": "markdown",
   "metadata": {},
   "source": [
    "Show the in-between data in plot"
   ]
  },
  {
   "cell_type": "code",
   "execution_count": null,
   "metadata": {},
   "outputs": [],
   "source": [
    "\"\"\"\n",
    "NOT USED ANYMORE\n",
    "\"\"\"\n",
    "\n",
    "fig = plt.figure()\n",
    "plt.axis('off')\n",
    "plt.imshow(generatedM5)\n",
    "fig = plt.figure()\n",
    "plt.axis('off')\n",
    "plt.imshow(imgA[0, :, :, :].astype(np.uint8))\n",
    "fig = plt.figure()\n",
    "plt.axis('off')\n",
    "plt.imshow(imgB[0, :, :, :].astype(np.uint8))\n",
    "\n",
    "imsave('in-between.png', generated)\n",
    "# projectImage(generated.astype(np.float32), pca, pcaFeatures)"
   ]
  },
  {
   "cell_type": "markdown",
   "metadata": {},
   "source": [
    "Figure X: Put new data in the scatter plot"
   ]
  },
  {
   "cell_type": "markdown",
   "metadata": {},
   "source": [
    "Project 2 images used to generate in-between data to the plot"
   ]
  },
  {
   "cell_type": "code",
   "execution_count": null,
   "metadata": {},
   "outputs": [],
   "source": [
    "\n",
    "projectImage(imgA[0, :, :, :], pca, pcaFeatures)\n",
    "projectImage(imgB[0, :, :, :], pca, pcaFeatures)"
   ]
  },
  {
   "cell_type": "markdown",
   "metadata": {},
   "source": []
  },
  {
   "cell_type": "code",
   "execution_count": null,
   "metadata": {},
   "outputs": [],
   "source": [
    "import gc\n",
    "gc.collect()"
   ]
  },
  {
   "cell_type": "markdown",
   "metadata": {},
   "source": [
    "Starting point=centrorid of M3"
   ]
  },
  {
   "cell_type": "code",
   "execution_count": null,
   "metadata": {},
   "outputs": [],
   "source": [
    "idx = np.where(y_train == 2)\n",
    "std = np.std(X_train[idx[0],:], axis=0)\n",
    "mean = np.mean(X_train[idx[0],:], axis=0)\n",
    "# idx = np.random.choice(np.where(y_train == 2)[0], 1)\n",
    "startPoint = mean\n",
    "stepSize = std\n",
    "stepSize[0] *= 4\n",
    "stepSize[1:] *= 2\n",
    "\n",
    "\n",
    "\n",
    "# combination_image = K.placeholder((1,) + IMAGE_SIZE + (3,))\n",
    "# input_tensor = K.concatenate([combination_image], axis=0)\n",
    "input_tensor = ks.Input(IMAGE_SIZE + (3,))\n",
    "vgg19 = VGG19(input_tensor=input_tensor, weights='imagenet',\n",
    "                include_top=False, pooling='avg')\n",
    "\n",
    "generatedImages, points = generateImageForEachPCs(startPoint, 2, stepSize, pca, vgg19)"
   ]
  },
  {
   "cell_type": "markdown",
   "metadata": {},
   "source": [
    "Save the generated images and the arrays"
   ]
  },
  {
   "cell_type": "code",
   "execution_count": null,
   "metadata": {},
   "outputs": [],
   "source": [
    "np.save('images.npy', generatedImages) # save\n",
    "np.save('points.npy', points) # save"
   ]
  },
  {
   "cell_type": "code",
   "execution_count": null,
   "metadata": {},
   "outputs": [],
   "source": [
    "PC_DIR = 'pc_gen/'\n",
    "counter = 0\n",
    "for image in generatedImages:\n",
    "    imsave( PC_DIR + str(counter) + '.png', image)\n",
    "    counter+=1\n",
    "locFile = open(PC_DIR + 'locations.txt', 'w')\n",
    "locFile.write(str(points))\n",
    "locFile.close()"
   ]
  },
  {
   "cell_type": "code",
   "execution_count": null,
   "metadata": {},
   "outputs": [],
   "source": [
    "ptArray = np.concatenate(points)\n",
    "\n",
    "drawThingsOnReducedDomain(pcaFeatures, labels, [ptArray], ['Points'], 'generateImageFromEachPC.png', [None], [100], ['*'], [None])\n",
    "drawThingsOnReducedDomain3D(pcaFeatures, labels, [ptArray], ['Points'], 'generateImageFromEachPC.png', [None], [100], ['*'], [None])"
   ]
  },
  {
   "cell_type": "code",
   "execution_count": null,
   "metadata": {},
   "outputs": [],
   "source": [
    "K.clear_session()"
   ]
  }
 ],
 "metadata": {
  "file_extension": ".py",
  "kernelspec": {
   "display_name": "Python 3.7.7 64-bit ('thesis': conda)",
   "language": "python",
   "name": "python_defaultSpec_1596077067873"
  },
  "language_info": {
   "codemirror_mode": {
    "name": "ipython",
    "version": 3
   },
   "file_extension": ".py",
   "mimetype": "text/x-python",
   "name": "python",
   "nbconvert_exporter": "python",
   "pygments_lexer": "ipython3",
   "version": "3.7.7-final"
  },
  "mimetype": "text/x-python",
  "name": "python",
  "npconvert_exporter": "python",
  "pygments_lexer": "ipython3",
  "version": 3
 },
 "nbformat": 4,
 "nbformat_minor": 2
}