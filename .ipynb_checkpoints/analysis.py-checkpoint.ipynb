{
 "cells": [
  {
   "cell_type": "markdown",
   "metadata": {},
   "source": [
    "Import modules"
   ]
  },
  {
   "cell_type": "code",
   "execution_count": 2,
   "metadata": {},
   "outputs": [],
   "source": [
    "import numpy as np\n",
    "import tensorflow as tf\n",
    "from tensorflow import keras as ks\n",
    "import cv2\n",
    "from tensorflow.keras.preprocessing.image import ImageDataGenerator"
   ]
  },
  {
   "cell_type": "markdown",
   "metadata": {},
   "source": [
    "Read images"
   ]
  },
  {
   "cell_type": "markdown",
   "metadata": {},
   "source": [
    "from os import listdir\n",
    "from os.path import isfile, join\n",
    "\n",
    "\n",
    "imgDirs = ['train\\\\300.3', 'train\\\\300.9', 'train\\\\600.3', 'train\\\\600.9']\n",
    "data = []\n",
    "\n",
    "for imageDir in imgDirs:\n",
    "    onlyfiles = [f for f in listdir(imageDir) if isfile(join(imageDir, f))]\n",
    "    \n",
    "    for file in onlyfiles:\n",
    "        pathToFile =join(imageDir,file)\n",
    "        image = cv2.imread(pathToFile)\n",
    "        data.append(image)\n"
   ]
  },
  {
   "cell_type": "markdown",
   "metadata": {},
   "source": [
    "Read images and do data augmentation"
   ]
  },
  {
   "cell_type": "code",
   "execution_count": null,
   "metadata": {},
   "outputs": [],
   "source": [
    "#imgDirs = ['train\\\\300.3', 'train\\\\300.9', 'train\\\\600.3', 'train\\\\600.9']\n",
    "imgDir = 'train'\n",
    "data = []\n",
    "\n",
    "aug = ImageDataGenerator(\n",
    "        rotation_range=45.0,\n",
    "        horizontal_flip=True,\n",
    "        vertical_flip=True,\n",
    "        fill_mode=\"nearest\")\n",
    "\n",
    "#for imageDir in imgDirs:\n",
    "augmented  = aug.flow_from_directory(imgDir)\n",
    "for batch, label in augmented:\n",
    "    print(batch.shape())"
   ]
  },
  {
   "cell_type": "code",
   "execution_count": null,
   "metadata": {},
   "outputs": [],
   "source": []
  }
 ],
 "metadata": {
  "kernelspec": {
   "display_name": "Python 3",
   "language": "python",
   "name": "python3"
  },
  "language_info": {
   "codemirror_mode": {
    "name": "ipython",
    "version": 3
   },
   "file_extension": ".py",
   "mimetype": "text/x-python",
   "name": "python",
   "nbconvert_exporter": "python",
   "pygments_lexer": "ipython3",
   "version": "3.6.8"
  }
 },
 "nbformat": 4,
 "nbformat_minor": 2
}
